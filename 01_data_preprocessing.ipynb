{
 "cells": [
  {
   "cell_type": "markdown",
   "id": "1e78ea39",
   "metadata": {},
   "source": [
    "# Downloading The BDD100k Dataset"
   ]
  },
  {
   "cell_type": "markdown",
   "id": "95fd5ab3",
   "metadata": {},
   "source": [
    "To download the 10k subdataset of the BDD100k dataset we need to download it through kaggle. here are the steps to configure and download the trageted dataset\n"
   ]
  },
  {
   "cell_type": "markdown",
   "id": "d14084fa",
   "metadata": {},
   "source": [
    "You have first to go to your kaggle account settings and get the API file called `kaggle.json`"
   ]
  },
  {
   "cell_type": "code",
   "execution_count": null,
   "metadata": {},
   "outputs": [],
   "source": []
  },
  {
   "cell_type": "markdown",
   "id": "38d86eb4",
   "metadata": {},
   "source": [
    "``` powershell\n",
    "# Create the .kaggle directory in your user folder\n",
    "New-Item -ItemType Directory -Force \"$env:USERPROFILE\\.kaggle\"\n",
    "\n",
    "# Move kaggle.json from Downloads to .kaggle\n",
    "Move-Item \"$env:USERPROFILE\\Downloads\\kaggle.json\" \"$env:USERPROFILE\\.kaggle\\\"\n",
    "\n",
    "\n",
    "\n"
   ]
  },
  {
   "cell_type": "markdown",
   "id": "de34554e",
   "metadata": {},
   "source": [
    " </small>so you need to change the $env:USERPROFILE with the correct directory</small> \n"
   ]
  },
  {
   "cell_type": "markdown",
   "id": "0673e69e",
   "metadata": {
    "slideshow": {
     "slide_type": "subslide"
    }
   },
   "source": [
    "then you can install kaggle using this command \n"
   ]
  },
  {
   "cell_type": "markdown",
   "id": "b21255c8",
   "metadata": {},
   "source": [
    "```bash\n",
    "!pip install kagglehub\n"
   ]
  },
  {
   "cell_type": "markdown",
   "id": "ea1986a9",
   "metadata": {},
   "source": [
    "then you can download the dataset using this command\n",
    "OR you can go to this link and manually download the dataset: [Dataset](https://www.kaggle.com/datasets/marquis03/bdd100k)"
   ]
  },
  {
   "cell_type": "code",
   "execution_count": null,
   "id": "bf8b45bc",
   "metadata": {},
   "outputs": [],
   "source": [
    "import kagglehub\n",
    "\n",
    "# Download latest version\n",
    "path = kagglehub.dataset_download(\"marquis03/bdd100k\")\n"
   ]
  },
  {
   "cell_type": "markdown",
   "id": "93438dde",
   "metadata": {},
   "source": [
    "Now after downloading the dataset we need to unzip it\n"
   ]
  },
  {
   "cell_type": "code",
   "execution_count": null,
   "id": "c5518527",
   "metadata": {},
   "outputs": [],
   "source": [
    "import os\n",
    "import zipfile\n",
    "\n",
    "# Path to your downloaded zip file\n",
    "zip_path = \"/bdd100k\"\n",
    "\n",
    "# Folder to unzip into \n",
    "extract_dir = os.path.dirname(zip_path)\n",
    "os.makedirs(extract_dir, exist_ok=True)\n",
    "\n",
    "# Unzip\n",
    "with zipfile.ZipFile(zip_path, 'r') as zip_ref:\n",
    "    zip_ref.extractall(extract_dir)\n",
    "\n",
    "print(f\"Unzipped into: {extract_dir}\")"
   ]
  },
  {
   "cell_type": "markdown",
   "id": "8b9b3363",
   "metadata": {},
   "source": []
  },
  {
   "cell_type": "code",
   "execution_count": 6,
   "id": "f26946cf",
   "metadata": {},
   "outputs": [],
   "source": [
    "\n",
    "import os\n",
    "import json\n",
    "import shutil\n",
    "from tqdm import tqdm\n",
    "\n",
    "\n",
    "\n",
    "\n",
    "bdd_root = \"bdd100k\"   # path where you extracted dataset\n",
    "train_images = os.path.join(bdd_root, \"train\", \"images\")\n",
    "val_images   = os.path.join(bdd_root, \"val\", \"images\")\n",
    "test_images  = os.path.join(bdd_root, \"test\")\n",
    "\n",
    " # Labels\n",
    "\n",
    "train_labels = os.path.join(bdd_root,\"train\", \"annotations\",\"bdd100k_labels_images_train.json\")\n",
    "val_labels   = os.path.join(bdd_root, \"val\", \"annotations\",\"bdd100k_labels_images_val.json\")"
   ]
  },
  {
   "cell_type": "markdown",
   "id": "e8fcf054",
   "metadata": {},
   "source": [
    "Check Data structre\n"
   ]
  },
  {
   "cell_type": "code",
   "execution_count": 7,
   "id": "6e5ff747",
   "metadata": {},
   "outputs": [
    {
     "name": "stdout",
     "output_type": "stream",
     "text": [
      "Train Images: 70000\n",
      "Validation Images: 10000\n",
      "Test Images: 20000\n",
      "Train Images: 70000\n",
      "Train Annotations (entries in JSON): 69863\n"
     ]
    }
   ],
   "source": [
    "# Count images\n",
    "print(\"Train Images:\", len(os.listdir(train_images)))\n",
    "print(\"Validation Images:\", len(os.listdir(val_images)))\n",
    "print(\"Test Images:\", len(os.listdir(test_images)))\n",
    "\n",
    "train_images_dir = os.path.join(bdd_root, \"train\", \"images\")\n",
    "train_labels_file = os.path.join(bdd_root, \"train\",\"annotations\",  \"bdd100k_labels_images_train.json\")  # adjust filename\n",
    "\n",
    "# Count images\n",
    "num_images = len(os.listdir(train_images_dir))\n",
    "\n",
    "# Load annotations\n",
    "with open(train_labels_file, \"r\") as f:\n",
    "    annotations = json.load(f)\n",
    "\n",
    "num_annotations = len(annotations)\n",
    "\n",
    "print(\"Train Images:\", num_images)\n",
    "print(\"Train Annotations (entries in JSON):\", num_annotations)"
   ]
  },
  {
   "cell_type": "markdown",
   "id": "7079757e",
   "metadata": {},
   "source": [
    "so it appears that there is missing annotations for some image. We can keep them and label them as \"no content\" ."
   ]
  },
  {
   "cell_type": "markdown",
   "id": "34ca5203",
   "metadata": {},
   "source": [
    "Now we need to make it in a YOLO format, this can take a while since we opening every image and make a txt file for it"
   ]
  },
  {
   "cell_type": "code",
   "execution_count": null,
   "id": "4f796c0a",
   "metadata": {},
   "outputs": [],
   "source": [
    "import os, json\n",
    "import cv2   # keep full cv2\n",
    "from PIL import Image\n",
    "\n",
    "# Paths\n",
    "bdd_root = r\"bdd100k\"\n",
    "images_dir = os.path.join(bdd_root, \"train\", \"images\")\n",
    "labels_json = os.path.join(bdd_root, \"train\",\"annotations\", \"bdd100k_labels_images_train.json\")\n",
    "output_labels = os.path.join(bdd_root, \"train\", \"labels_yolo\")\n",
    "\n",
    "os.makedirs(output_labels, exist_ok=True)\n",
    "\n",
    "# Load annotations\n",
    "with open(labels_json, \"r\") as f:\n",
    "    annotations = json.load(f)\n",
    "\n",
    "# Class mapping\n",
    "classes = [\"pedestrian\", \"rider\", \"car\", \"truck\", \"bus\", \"train\", \n",
    "           \"motorcycle\", \"bicycle\", \"traffic light\", \"traffic sign\"]\n",
    "\n",
    "# Build quick lookup\n",
    "ann_dict = {ann[\"name\"]: ann for ann in annotations}\n",
    "\n",
    "# Loop all images\n",
    "for img_name in os.listdir(images_dir):\n",
    "    label_path = os.path.join(output_labels, img_name.replace(\".jpg\", \".txt\"))\n",
    "    \n",
    "    if img_name not in ann_dict:\n",
    "        open(label_path, \"w\").close()\n",
    "        continue\n",
    "\n",
    "    img_ann = ann_dict[img_name]\n",
    "\n",
    "    # Get image size efficiently\n",
    "    img_path = os.path.join(images_dir, img_name)\n",
    "    with Image.open(img_path) as im:\n",
    "        W, H = im.size\n",
    "\n",
    "    with open(label_path, \"w\") as f_out:\n",
    "        for label in img_ann.get(\"labels\", []):\n",
    "            if \"box2d\" not in label:\n",
    "                continue\n",
    "            cls = label[\"category\"]\n",
    "            if cls not in classes:\n",
    "                continue\n",
    "            cls_id = classes.index(cls)\n",
    "\n",
    "            # Safe extraction\n",
    "            box = label[\"box2d\"]\n",
    "            x1, y1, x2, y2 = box[\"x1\"], box[\"y1\"], box[\"x2\"], box[\"y2\"]\n",
    "\n",
    "            w = x2 - x1\n",
    "            h = y2 - y1\n",
    "            x_center = x1 + w / 2\n",
    "            y_center = y1 + h / 2\n",
    "\n",
    "            # Normalize\n",
    "            x_center /= W\n",
    "            y_center /= H\n",
    "            w /= W\n",
    "            h /= H\n",
    "\n",
    "            f_out.write(f\"{cls_id} {x_center:.6f} {y_center:.6f} {w:.6f} {h:.6f}\\n\")\n",
    "\n",
    "print(\"Conversion done! YOLO labels saved at:\", output_labels)\n",
    "\n"
   ]
  }
 ],
 "metadata": {
  "kernelspec": {
   "display_name": "heart_disease_env",
   "language": "python",
   "name": "python3"
  },
  "language_info": {
   "codemirror_mode": {
    "name": "ipython",
    "version": 3
   },
   "file_extension": ".py",
   "mimetype": "text/x-python",
   "name": "python",
   "nbconvert_exporter": "python",
   "pygments_lexer": "ipython3",
   "version": "3.12.6"
  }
 },
 "nbformat": 4,
 "nbformat_minor": 5
}
