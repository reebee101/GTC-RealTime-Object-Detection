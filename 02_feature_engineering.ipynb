{
 "cells": [
  {
   "cell_type": "code",
   "execution_count": null,
   "id": "f7394c19",
   "metadata": {},
   "outputs": [],
   "source": [
    "import json\n",
    "import pandas as pd\n",
    "\n",
    "# Load labels\n",
    "with open(\"bdd100k_labels_images_train.json\") as f:\n",
    "    data = json.load(f)\n",
    "\n",
    "# Flatten into a DataFrame\n",
    "records = []\n",
    "for item in data:\n",
    "    name = item[\"name\"]\n",
    "    for label in item[\"labels\"]:\n",
    "        category = label.get(\"category\", None)\n",
    "        attributes = label.get(\"attributes\", {})\n",
    "        box = label.get(\"box2d\", None)\n",
    "        \n",
    "        records.append({\n",
    "            \"image\": name,\n",
    "            \"category\": category,\n",
    "            \"occluded\": attributes.get(\"occluded\"),\n",
    "            \"truncated\": attributes.get(\"truncated\"),\n",
    "            \"crowd\": attributes.get(\"crowd\"),\n",
    "            \"x1\": box[\"x1\"] if box else None,\n",
    "            \"y1\": box[\"y1\"] if box else None,\n",
    "            \"x2\": box[\"x2\"] if box else None,\n",
    "            \"y2\": box[\"y2\"] if box else None,\n",
    "        })\n",
    "\n",
    "df = pd.DataFrame(records)\n",
    "df.head()\n"
   ]
  },
  {
   "cell_type": "code",
   "execution_count": null,
   "id": "9c004f40",
   "metadata": {},
   "outputs": [],
   "source": [
    "print(df.describe(include=\"all\"))\n",
    "\n",
    "# Class distribution\n",
    "print(df[\"category\"].value_counts())\n",
    "\n",
    "# Average bounding box width/height\n",
    "df[\"width\"] = df[\"x2\"] - df[\"x1\"]\n",
    "df[\"height\"] = df[\"y2\"] - df[\"y1\"]\n",
    "print(df[[\"width\", \"height\"]].describe())\n"
   ]
  },
  {
   "cell_type": "code",
   "execution_count": null,
   "id": "d848fea4",
   "metadata": {},
   "outputs": [],
   "source": [
    "import matplotlib.pyplot as plt\n",
    "import seaborn as sns\n",
    "\n",
    "# Category distribution\n",
    "plt.figure(figsize=(12,6))\n",
    "sns.countplot(x=\"category\", data=df, order=df[\"category\"].value_counts().index)\n",
    "plt.xticks(rotation=45)\n",
    "plt.title(\"Object Category Distribution\")\n",
    "plt.show()\n",
    "\n",
    "# Bounding box sizes\n",
    "plt.figure(figsize=(10,5))\n",
    "sns.histplot(df[\"width\"], bins=50, kde=True, color=\"blue\", label=\"Width\")\n",
    "sns.histplot(df[\"height\"], bins=50, kde=True, color=\"red\", label=\"Height\")\n",
    "plt.legend()\n",
    "plt.title(\"Distribution of Bounding Box Sizes\")\n",
    "plt.show()\n",
    "\n",
    "# Correlation heatmap\n",
    "plt.figure(figsize=(6,4))\n",
    "sns.heatmap(df[[\"width\",\"height\",\"occluded\",\"truncated\",\"crowd\"]].corr(), annot=True, cmap=\"coolwarm\")\n",
    "plt.title(\"Feature Correlation Heatmap\")\n",
    "plt.show()\n"
   ]
  },
  {
   "cell_type": "code",
   "execution_count": null,
   "id": "de50d68c",
   "metadata": {},
   "outputs": [],
   "source": [
    "# New features\n",
    "df[\"area\"] = df[\"width\"] * df[\"height\"]\n",
    "df[\"aspect_ratio\"] = df[\"width\"] / (df[\"height\"] + 1e-6)  # avoid div by zero\n",
    "\n",
    "# Encode categories\n",
    "df_encoded = pd.get_dummies(df, columns=[\"category\"])\n",
    "\n",
    "# Scale numerical features\n",
    "from sklearn.preprocessing import StandardScaler\n",
    "scaler = StandardScaler()\n",
    "num_cols = [\"width\", \"height\", \"area\", \"aspect_ratio\"]\n",
    "df_scaled = df.copy()\n",
    "df_scaled[num_cols] = scaler.fit_transform(df[num_cols])\n",
    "\n",
    "df_scaled.head()\n"
   ]
  },
  {
   "cell_type": "code",
   "execution_count": null,
   "id": "603e97ba",
   "metadata": {},
   "outputs": [],
   "source": [
    "obj_count = df.groupby(\"image\")[\"category\"].count()\n",
    "\n",
    "plt.figure(figsize=(10,5))\n",
    "sns.histplot(obj_count, bins=50, kde=False)\n",
    "plt.title(\"Distribution of Object Counts per Image\")\n",
    "plt.xlabel(\"Objects per Image\")\n",
    "plt.ylabel(\"Frequency\")\n",
    "plt.show()"
   ]
  },
  {
   "cell_type": "code",
   "execution_count": null,
   "id": "0cb47fb4",
   "metadata": {},
   "outputs": [],
   "source": [
    "plt.figure(figsize=(12,6))\n",
    "sns.countplot(x=\"category\", hue=\"occluded\", data=df, order=df[\"category\"].value_counts().index)\n",
    "plt.xticks(rotation=45)\n",
    "plt.title(\"Occlusion by Category\")\n",
    "plt.show()\n",
    "\n",
    "plt.figure(figsize=(12,6))\n",
    "sns.countplot(x=\"category\", hue=\"truncated\", data=df, order=df[\"category\"].value_counts().index)\n",
    "plt.xticks(rotation=45)\n",
    "plt.title(\"Truncation by Category\")\n",
    "plt.show()"
   ]
  },
  {
   "cell_type": "code",
   "execution_count": null,
   "id": "b64b6835",
   "metadata": {},
   "outputs": [],
   "source": [
    "plt.figure(figsize=(12,6))\n",
    "sns.boxplot(x=\"category\", y=\"area\", data=df)\n",
    "plt.yscale(\"log\")\n",
    "plt.xticks(rotation=45)\n",
    "plt.title(\"Bounding Box Area Distribution per Category\")\n",
    "plt.show()"
   ]
  },
  {
   "cell_type": "code",
   "execution_count": null,
   "id": "56172e2b",
   "metadata": {},
   "outputs": [],
   "source": [
    "plt.figure(figsize=(10,6))\n",
    "sns.kdeplot(data=df, x=\"aspect_ratio\", hue=\"category\", common_norm=False, fill=True, alpha=0.3)\n",
    "plt.xlim(0, 5)\n",
    "plt.title(\"Aspect Ratio Distribution by Category\")\n",
    "plt.show()"
   ]
  },
  {
   "cell_type": "code",
   "execution_count": null,
   "id": "4c4485dc",
   "metadata": {},
   "outputs": [],
   "source": [
    "import numpy as np\n",
    "\n",
    "heatmap, xedges, yedges = np.histogram2d(df[\"x1\"], df[\"y1\"], bins=(50,50))\n",
    "\n",
    "plt.figure(figsize=(8,6))\n",
    "plt.imshow(heatmap.T, origin=\"lower\", cmap=\"hot\", interpolation=\"nearest\")\n",
    "plt.colorbar(label=\"Frequency\")\n",
    "plt.title(\"Heatmap of Object Top-Left Corner Locations\")\n",
    "plt.xlabel(\"X position\")\n",
    "plt.ylabel(\"Y position\")\n",
    "plt.show()"
   ]
  },
  {
   "cell_type": "code",
   "execution_count": null,
   "id": "3f5a464e",
   "metadata": {},
   "outputs": [],
   "source": [
    "sns.pairplot(df[[\"width\",\"height\",\"area\",\"aspect_ratio\"]].sample(2000))  # sample for speed\n",
    "plt.suptitle(\"Pairplot of Engineered Features\", y=1.02)\n",
    "plt.show()"
   ]
  },
  {
   "cell_type": "code",
   "execution_count": null,
   "id": "e69f870b",
   "metadata": {},
   "outputs": [],
   "source": [
    "plt.figure(figsize=(10,6))\n",
    "sns.scatterplot(x=\"width\", y=\"height\", hue=\"category\", alpha=0.3, data=df.sample(10000))\n",
    "plt.title(\"Width vs Height of Bounding Boxes by Category\")\n",
    "plt.show()"
   ]
  }
 ],
 "metadata": {
  "language_info": {
   "name": "python"
  }
 },
 "nbformat": 4,
 "nbformat_minor": 5
}
